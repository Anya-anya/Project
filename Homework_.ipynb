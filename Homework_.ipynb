{
 "cells": [
  {
   "cell_type": "markdown",
   "id": "975df444",
   "metadata": {},
   "source": [
    "### Задание 1"
   ]
  },
  {
   "cell_type": "code",
   "execution_count": 16,
   "id": "ed51f0c4",
   "metadata": {},
   "outputs": [
    {
     "name": "stdout",
     "output_type": "stream",
     "text": [
      "Введите словоflowers\n",
      "w\n"
     ]
    }
   ],
   "source": [
    "w = input('Введите слово')\n",
    "if len(w) % 2==0:\n",
    "    print(w[int(len(w) / 2-1):int(len(w) / 2+1)])\n",
    "else: \n",
    "    len(wd) % 2!=0\n",
    "    print(w[int(len(w)/2)])\n",
    "    "
   ]
  },
  {
   "cell_type": "markdown",
   "id": "92f2306c",
   "metadata": {},
   "source": [
    "### Задание 2"
   ]
  },
  {
   "cell_type": "code",
   "execution_count": 4,
   "id": "5822d772",
   "metadata": {},
   "outputs": [
    {
     "name": "stdout",
     "output_type": "stream",
     "text": [
      "Введите число1\n",
      "Введите число3\n",
      "Введите число8\n",
      "Введите число2\n",
      "Введите число0\n",
      "сумма: 14\n"
     ]
    }
   ],
   "source": [
    "summa = 0\n",
    "while True:\n",
    "    n = int(input('Введите число'))\n",
    "    if n == 0:\n",
    "        break\n",
    "    else:\n",
    "        summa += n\n",
    "print('сумма:', summa)"
   ]
  },
  {
   "cell_type": "markdown",
   "id": "242a2b8a",
   "metadata": {},
   "source": [
    "### Задание 3"
   ]
  },
  {
   "cell_type": "code",
   "execution_count": 17,
   "id": "79aabcbd",
   "metadata": {},
   "outputs": [
    {
     "name": "stdout",
     "output_type": "stream",
     "text": [
      "Идеальные пары: [('Alex', 'Emma'), ('Arthur', 'Kate'), ('John', 'Kira'), ('Peter', 'Liza'), ('Richard', 'Trisha')]\n",
      "Внимание, кто-то может остаться без пары!\n"
     ]
    }
   ],
   "source": [
    "boys = ['Peter', 'Alex', 'John', 'Arthur', 'Richard']\n",
    "girls = ['Kate', 'Liza', 'Kira', 'Emma', 'Trisha']\n",
    "\n",
    "b_ = sorted(boys)\n",
    "g_ = sorted(girls)\n",
    "\n",
    "len(b_)\n",
    "len(g_)\n",
    "\n",
    "res = zip(b_, g_)\n",
    "print('Идеальные пары:', list(res))\n",
    "\n",
    "\n",
    "boys = ['Peter', 'Alex', 'John', 'Arthur', 'Richard', 'Michael']\n",
    "girls = ['Kate', 'Liza', 'Kira', 'Emma', 'Trisha']\n",
    "\n",
    "b_ = sorted(boys)\n",
    "g_ = sorted(girls)\n",
    "\n",
    "len(b_)\n",
    "len(g_)\n",
    "\n",
    "if b_ == g_:\n",
    "    res = zip(b_,g_)\n",
    "    res_ = list(res)\n",
    "else:\n",
    "    print('Внимание, кто-то может остаться без пары!')"
   ]
  },
  {
   "cell_type": "markdown",
   "id": "9bc629ef",
   "metadata": {},
   "source": [
    "### Задание 4"
   ]
  },
  {
   "cell_type": "code",
   "execution_count": 19,
   "id": "c05905a6",
   "metadata": {},
   "outputs": [
    {
     "name": "stdout",
     "output_type": "stream",
     "text": [
      "Thailand - 23.9 C\n",
      "Germany - 13.8 C\n",
      "Russia - 3.7 C\n",
      "Poland - 12.0 C\n"
     ]
    }
   ],
   "source": [
    "countries_temperature = [\n",
    "    ['Thailand', [75.2, 77, 78.8, 73.4, 68, 75.2, 77]],\n",
    "    ['Germany', [57.2, 55.4, 59, 59, 53.6]],\n",
    "    ['Russia', [35.6, 37.4, 39.2, 41, 42.8, 39.2, 35.6]],\n",
    "    ['Poland', [50, 50, 53.6, 57.2, 55.4, 55.4]]\n",
    "]\n",
    "\n",
    "for i in countries_temperature:\n",
    "    print(i[0], '-', round((sum(i[1]) / len(i[1]) - 32) / 1.8, 1), 'C')\n"
   ]
  },
  {
   "cell_type": "code",
   "execution_count": null,
   "id": "c6a60bc3",
   "metadata": {},
   "outputs": [],
   "source": []
  }
 ],
 "metadata": {
  "kernelspec": {
   "display_name": "Python 3",
   "language": "python",
   "name": "python3"
  },
  "language_info": {
   "codemirror_mode": {
    "name": "ipython",
    "version": 3
   },
   "file_extension": ".py",
   "mimetype": "text/x-python",
   "name": "python",
   "nbconvert_exporter": "python",
   "pygments_lexer": "ipython3",
   "version": "3.8.8"
  }
 },
 "nbformat": 4,
 "nbformat_minor": 5
}
