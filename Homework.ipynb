{
 "cells": [
  {
   "cell_type": "code",
   "execution_count": null,
   "metadata": {},
   "outputs": [],
   "source": [
    "# Задание 1"
   ]
  },
  {
   "cell_type": "code",
   "execution_count": 1,
   "metadata": {},
   "outputs": [
    {
     "name": "stdout",
     "output_type": "stream",
     "text": [
      "Фраза 1 длиннее фразы 2\n"
     ]
    }
   ],
   "source": [
    "phrase_1 = 'Насколько проще было бы писать программы, если бы не заказчики'\n",
    "phrase_2 = '640Кб должно хватить для любых задач. Билл Гейтс (по легенде)'\n",
    "if len(phrase_1) > len(phrase_2):\n",
    "    print('Фраза 1 длиннее фразы 2')\n",
    "elif len(phrase_1) < len(phrase_2):\n",
    "    print('Фраза 2 длиннее фразы 1')\n",
    "else:\n",
    "    print('Фразы равной длины')"
   ]
  },
  {
   "cell_type": "code",
   "execution_count": null,
   "metadata": {},
   "outputs": [],
   "source": [
    "# Задание 2"
   ]
  },
  {
   "cell_type": "code",
   "execution_count": 4,
   "metadata": {},
   "outputs": [
    {
     "name": "stdout",
     "output_type": "stream",
     "text": [
      "Введите год2019\n",
      "-Обычный год\n"
     ]
    }
   ],
   "source": [
    "year = int(input('Введите год'))\n",
    "if (year % 4 == 0) and (year % 100 != 0) or (year % 400 == 0):\n",
    "    print('-Високосный год')\n",
    "else:\n",
    "    print('-Обычный год')"
   ]
  },
  {
   "cell_type": "code",
   "execution_count": null,
   "metadata": {},
   "outputs": [],
   "source": [
    "# Задание 3"
   ]
  },
  {
   "cell_type": "code",
   "execution_count": 3,
   "metadata": {},
   "outputs": [
    {
     "name": "stdout",
     "output_type": "stream",
     "text": [
      "Введите день13\n",
      "Введите месяцАпрель\n",
      "Ваш знак зодиака - Овен\n"
     ]
    }
   ],
   "source": [
    "date = int(input('Введите день'))\n",
    "month = input('Введите месяц')\n",
    "if (date >= 21 and date <= 31 and month == 'Март') or (month == 'Апрель' and date >= 1 and date <= 19):\n",
    "   print(\"Ваш знак зодиака - Овен\")\n",
    "elif (date >= 20 and date <= 30 and month == 'Апрель') or ( month == 'Май' and date >=1 and date <= 20):\n",
    "   print(\"Ваш знак зодиака - Телец\")\n",
    "elif (date >= 21 and date <= 31 and month == 'Май') or ( month =='Июнь' and date >= 1 and date <= 21):\n",
    "   print(\"Ваш знак зодиака - Близнецы\")\n",
    "elif (date >= 22 and date <= 30 and month == 'Июнь') or ( month == 'Июль' and date >= 1 and date <= 22):\n",
    "   print(\"Ваш знак зодиака - Рак\")\n",
    "elif (date >= 23 and date <= 31 and month == 'Июль') or ( month == 'Август' and date >= 1 and date <= 22):\n",
    "   print(\"Ваш знак зодиака - Лев\")\n",
    "elif (date >= 23 and date <= 31 and month == 'Август') or ( month == 'Сентябрь' and date >= 1 and date <= 22):\n",
    "   print(\"Ваш знак зодиака - Дева\")\n",
    "elif (date >= 23 and date <= 30 and month == 'Сентябрь') or ( month == 'Октябрь' and date>=1 and date<=23):\n",
    "   print(\"Ваш знак зодиака - Весы\")\n",
    "elif (date >= 24 and date <= 31 and month == 'Октябрь') or (month == 'Ноябрь' and date >= 1 and date <= 22):\n",
    "   print(\"Ваш знак зодиака - Скорпион\")\n",
    "elif (date >= 23 and date <= 30 and month == 'Ноябрь') or ( month == 'Декабрь' and date >= 1 and date <= 21):\n",
    "   print(\"Ваш знак зодиака - Стрелец\")\n",
    "elif (date >= 22 and date <= 31 and month == 'Декабрь') or ( month == 'Январь' and date >= 1 and date <= 20):\n",
    "   print(\"Ваш знак зодиака - Козерог\")\n",
    "elif (date >= 21 and date <= 31 and month == 'Январь') or ( month == 'Февраль' and date >= 1 and date <= 18):\n",
    "   print(\"Ваш знак зодиака - Водолей\")\n",
    "elif (date >= 19 and date <= 29 and month == 'Февраль') or ( month == 'Март' and date >= 1 and date <= 20):\n",
    "   print(\"Ваш знак зодиака - Рыбы\")"
   ]
  },
  {
   "cell_type": "code",
   "execution_count": null,
   "metadata": {},
   "outputs": [],
   "source": [
    "# Задание 4"
   ]
  },
  {
   "cell_type": "code",
   "execution_count": 12,
   "metadata": {},
   "outputs": [
    {
     "name": "stdout",
     "output_type": "stream",
     "text": [
      "Стандартная коробка №3\n"
     ]
    }
   ],
   "source": [
    "width = 15\n",
    "length = 50\n",
    "height = 15\n",
    "if width < 15 and length < 15 and height < 15:\n",
    "    print('Коробка №1')\n",
    "elif 15 < width < 50 or  15 < length < 50 or 15 < height < 50:\n",
    "    print('Коробка №2')\n",
    "elif length > 200:\n",
    "    print('Упаковка для лыж')\n",
    "else:\n",
    "    print('Стандартная коробка №3')\n"
   ]
  },
  {
   "cell_type": "code",
   "execution_count": 1,
   "metadata": {},
   "outputs": [
    {
     "name": "stdout",
     "output_type": "stream",
     "text": [
      "Ищите упаковку для лыж\n"
     ]
    }
   ],
   "source": [
    "width = 45\n",
    "length = 205\n",
    "height = 45\n",
    "if width < 15 and length < 15 and height < 15:\n",
    "    print('Коробка №1')\n",
    "elif length > 200:\n",
    "    print('Ищите упаковку для лыж')\n",
    "elif 15 < width < 50 or  15 < length < 50 or 15 < height < 50:\n",
    "    print('Коробка №2')\n",
    "else:\n",
    "    print('Стандартная коробка №3')   "
   ]
  },
  {
   "cell_type": "code",
   "execution_count": null,
   "metadata": {},
   "outputs": [],
   "source": [
    "# Задание 5"
   ]
  },
  {
   "cell_type": "code",
   "execution_count": 5,
   "metadata": {},
   "outputs": [
    {
     "name": "stdout",
     "output_type": "stream",
     "text": [
      "Введите номер билета123456\n",
      "Неасчастливый билет\n"
     ]
    }
   ],
   "source": [
    "bilet = str(input('Введите номер билета'))\n",
    "sum1=int(bilet[0])+int(bilet[1])+int(bilet[2])\n",
    "sum2=int(bilet[3])+int(bilet[4])+int(bilet[5])\n",
    "if sum1==sum2:\n",
    "  print('Счастливый билет')\n",
    "else:\n",
    "  print('Неасчастливый билет') "
   ]
  },
  {
   "cell_type": "code",
   "execution_count": 23,
   "metadata": {},
   "outputs": [
    {
     "name": "stdout",
     "output_type": "stream",
     "text": [
      "Введите номер билета123321\n",
      "Счастливый билет\n"
     ]
    }
   ],
   "source": [
    "bilet = str(input('Введите номер билета'))\n",
    "sum1=int(bilet[0])+int(bilet[1])+int(bilet[2])\n",
    "sum2=int(bilet[3])+int(bilet[4])+int(bilet[5])\n",
    "if sum1==sum2:\n",
    "  print('Счастливый билет')\n",
    "else:\n",
    "  print('Неасчастливый билет') "
   ]
  }
 ],
 "metadata": {
  "kernelspec": {
   "display_name": "Python 3",
   "language": "python",
   "name": "python3"
  },
  "language_info": {
   "codemirror_mode": {
    "name": "ipython",
    "version": 3
   },
   "file_extension": ".py",
   "mimetype": "text/x-python",
   "name": "python",
   "nbconvert_exporter": "python",
   "pygments_lexer": "ipython3",
   "version": "3.8.5"
  }
 },
 "nbformat": 4,
 "nbformat_minor": 4
}
