{
 "cells": [
  {
   "cell_type": "markdown",
   "metadata": {},
   "source": [
    "### Задание 1"
   ]
  },
  {
   "cell_type": "code",
   "execution_count": null,
   "metadata": {},
   "outputs": [],
   "source": [
    "The Moscow Times - Wednesday, October 2, 2002\n",
    "The Guardian - Friday, 11.10.13\n",
    "Daily News - Thursday, 18 August 1977"
   ]
  },
  {
   "cell_type": "code",
   "execution_count": 2,
   "metadata": {},
   "outputs": [],
   "source": [
    "from datetime import datetime"
   ]
  },
  {
   "cell_type": "code",
   "execution_count": 8,
   "metadata": {},
   "outputs": [
    {
     "data": {
      "text/plain": [
       "(datetime.datetime(2002, 10, 2, 0, 0),\n",
       " datetime.datetime(2013, 10, 11, 0, 0),\n",
       " datetime.datetime(1977, 8, 18, 0, 0))"
      ]
     },
     "execution_count": 8,
     "metadata": {},
     "output_type": "execute_result"
    }
   ],
   "source": [
    "all_newspapers = datetime.strptime('Wednesday, October 2, 2002', '%A, %B %d, %Y'), datetime.strptime('Friday, 11.10.13', '%A, %d.%m.%y'),datetime.strptime('Thursday, 18 August 1977', '%A, %d %B %Y')\n",
    "\n",
    "all_newspapers"
   ]
  },
  {
   "cell_type": "markdown",
   "metadata": {},
   "source": [
    "### Задание 2"
   ]
  },
  {
   "cell_type": "code",
   "execution_count": 18,
   "metadata": {},
   "outputs": [],
   "source": [
    "from datetime import datetime"
   ]
  },
  {
   "cell_type": "code",
   "execution_count": 19,
   "metadata": {},
   "outputs": [],
   "source": [
    "stream = ['2018-04-02', '2018-02-29', '2018-19-02']"
   ]
  },
  {
   "cell_type": "code",
   "execution_count": 20,
   "metadata": {
    "scrolled": true
   },
   "outputs": [
    {
     "name": "stdout",
     "output_type": "stream",
     "text": [
      "дата \"2018-04-02\" корректна: True\n",
      "дата \"2018-02-29\" корректна: False\n",
      "дата \"2018-19-02\" корректна: False\n"
     ]
    }
   ],
   "source": [
    "def check_date(date_):\n",
    "    try:\n",
    "        datetime.strptime(date_, '%Y-%m-%d')\n",
    "        return print('дата \"{}\" корректна: {}'.format(date_, True))\n",
    "    except ValueError:\n",
    "        return print('дата \"{}\" корректна: {}'.format(date_, False))\n",
    "\n",
    "for dt in stream:\n",
    "    check_date(dt)"
   ]
  },
  {
   "cell_type": "markdown",
   "metadata": {},
   "source": [
    "### Задание 3"
   ]
  },
  {
   "cell_type": "code",
   "execution_count": 54,
   "metadata": {},
   "outputs": [
    {
     "name": "stdout",
     "output_type": "stream",
     "text": [
      "2021-04-01\n",
      "2021-04-02\n",
      "2021-04-03\n",
      "2021-04-04\n",
      "2021-04-05\n",
      "2021-04-06\n",
      "2021-04-07\n",
      "2021-04-08\n",
      "2021-04-09\n",
      "2021-04-10\n",
      "2021-04-11\n",
      "2021-04-12\n",
      "2021-04-13\n"
     ]
    }
   ],
   "source": [
    "from datetime import datetime\n",
    "from datetime import timedelta\n",
    "\n",
    "start_date = '2021-04-01'\n",
    "end_date = '2021-04-13'\n",
    "\n",
    "start_date_dt = datetime.strptime(start_date, '%Y-%m-%d')\n",
    "end_date_dt = datetime.strptime(end_date, '%Y-%m-%d')\n",
    "\n",
    "date_range = start_date_dt\n",
    "\n",
    "while date_range.strftime('%Y-%m-%d') <= end_date:\n",
    "    print(date_range.strftime('%Y-%m-%d'))\n",
    "    \n",
    "    date_range += timedelta(days=1)\n",
    "\n",
    "def date_(date_):\n",
    "    if end_date_dt < start_date:\n",
    "        return None\n",
    "\n",
    "def date_converter(any_date):\n",
    "    try:\n",
    "        return datetime.strptime(any_date,'%Y-%m-%d')\n",
    "    except:\n",
    "        return None"
   ]
  }
 ],
 "metadata": {
  "kernelspec": {
   "display_name": "Python 3",
   "language": "python",
   "name": "python3"
  },
  "language_info": {
   "codemirror_mode": {
    "name": "ipython",
    "version": 3
   },
   "file_extension": ".py",
   "mimetype": "text/x-python",
   "name": "python",
   "nbconvert_exporter": "python",
   "pygments_lexer": "ipython3",
   "version": "3.8.5"
  }
 },
 "nbformat": 4,
 "nbformat_minor": 4
}
